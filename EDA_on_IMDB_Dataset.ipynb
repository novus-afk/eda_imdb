{
  "nbformat": 4,
  "nbformat_minor": 0,
  "metadata": {
    "kernelspec": {
      "display_name": "Python 3",
      "language": "python",
      "name": "python3"
    },
    "language_info": {
      "codemirror_mode": {
        "name": "ipython",
        "version": 3
      },
      "file_extension": ".py",
      "mimetype": "text/x-python",
      "name": "python",
      "nbconvert_exporter": "python",
      "pygments_lexer": "ipython3",
      "version": "3.7.1"
    },
    "colab": {
      "provenance": [],
      "collapsed_sections": [],
      "include_colab_link": true
    }
  },
  "cells": [
    {
      "cell_type": "markdown",
      "metadata": {
        "id": "view-in-github",
        "colab_type": "text"
      },
      "source": [
        "<a href=\"https://colab.research.google.com/github/novus-afk/self_eda_imdb/blob/master/EDA_on_IMDB_Dataset.ipynb\" target=\"_parent\"><img src=\"https://colab.research.google.com/assets/colab-badge.svg\" alt=\"Open In Colab\"/></a>"
      ]
    },
    {
      "cell_type": "markdown",
      "metadata": {
        "id": "3_Fv7J8jTBlu"
      },
      "source": [
        "## You have been hired by a rookie movie producer to help him decide what type of movies to produce and which actors to cast. You have to back your recommendations based on thorough analysis of the data he shared with you which has the list of 3000 movies and the corresponding details.\n",
        "\n",
        "## As a data scientist, you have to first explore the data and check its sanity.\n",
        "\n",
        "## Further, you have to answer the following questions:\n",
        "1. ### <b> Which movie made the highest profit? Who were its producer and director? Identify the actors in that film.</b>\n",
        "2. ### <b>This data has information about movies made in different languages. Which language has the highest average ROI (return on investment)? </b>\n",
        "3. ### <b> Find out the unique genres of movies in this dataset.</b>\n",
        "4. ### <b> Make a table of all the producers and directors of each movie. Find the top 3 producers who have produced movies with the highest average RoI? </b>\n",
        "5. ### <b> Which actor has acted in the most number of movies? Deep dive into the movies, genres and profits corresponding to this actor. </b>\n",
        "6. ### <b>Top 3 directors prefer which actors the most? </b>\n",
        "\n"
      ]
    },
    {
      "cell_type": "markdown",
      "metadata": {
        "id": "Fx8CVjtZW_BF"
      },
      "source": [
        "# Data Exploration"
      ]
    },
    {
      "cell_type": "code",
      "metadata": {
        "id": "vq7iMfybnKNP"
      },
      "source": [
        "#Import package\n",
        "import pandas as pd\n",
        "import numpy as np"
      ],
      "execution_count": null,
      "outputs": []
    },
    {
      "cell_type": "code",
      "source": [
        "# mount google drive to import csv data file\n",
        "from google.colab import drive\n",
        "drive.mount('/content/drive/')"
      ],
      "metadata": {
        "id": "78ec3pJ2kg49"
      },
      "execution_count": null,
      "outputs": []
    },
    {
      "cell_type": "code",
      "source": [
        "# import the csv data file from google drive\n",
        "path='/content/drive/MyDrive/_PROJECTS_/Self_EDA/'\n",
        "imdb_df = pd.read_csv(path+'imdb_data.csv')"
      ],
      "metadata": {
        "id": "-7Nv_9pek7p0"
      },
      "execution_count": null,
      "outputs": []
    },
    {
      "cell_type": "code",
      "source": [
        "imdb_df.head()"
      ],
      "metadata": {
        "id": "mtvN5YHylYab"
      },
      "execution_count": null,
      "outputs": []
    },
    {
      "cell_type": "code",
      "source": [
        "imdb_df.tail()"
      ],
      "metadata": {
        "id": "c8-98v2dllD6"
      },
      "execution_count": null,
      "outputs": []
    },
    {
      "cell_type": "code",
      "source": [
        "imdb_df.info()"
      ],
      "metadata": {
        "id": "T9t_W8yXlwuj"
      },
      "execution_count": null,
      "outputs": []
    },
    {
      "cell_type": "markdown",
      "source": [
        "Keep all the non null columns for the answers to the questions"
      ],
      "metadata": {
        "id": "tFP8gOEzovSc"
      }
    },
    {
      "cell_type": "code",
      "source": [
        "columns_to_keep= ['imdb_id','budget', 'genres','original_language', 'original_title','cast', 'crew', 'revenue']"
      ],
      "metadata": {
        "id": "6bCr0g7Zl4_y"
      },
      "execution_count": null,
      "outputs": []
    },
    {
      "cell_type": "code",
      "source": [
        "imdb_df['genres']"
      ],
      "metadata": {
        "id": "HenQ-OmjpkLL"
      },
      "execution_count": null,
      "outputs": []
    },
    {
      "cell_type": "code",
      "source": [
        "# check the first value in genres\n",
        "imdb_df.loc[0,'genres']"
      ],
      "metadata": {
        "id": "v7SZYOUwpv9D"
      },
      "execution_count": null,
      "outputs": []
    },
    {
      "cell_type": "code",
      "source": [
        "# check type of first value of genre column\n",
        "type(imdb_df.loc[0,'genres'])"
      ],
      "metadata": {
        "id": "3ilmRKnip1fz"
      },
      "execution_count": null,
      "outputs": []
    },
    {
      "cell_type": "markdown",
      "source": [
        "##Write function to convert string to list"
      ],
      "metadata": {
        "id": "G1BzGJd3phCF"
      }
    },
    {
      "cell_type": "code",
      "source": [
        "def convert_to_list(str):\n",
        "  return eval(str)"
      ],
      "metadata": {
        "id": "pEYBCn53qHjL"
      },
      "execution_count": null,
      "outputs": []
    },
    {
      "cell_type": "code",
      "source": [
        "# find all the row index non null values in genre string\n",
        "imdb_df.loc[~imdb_df['genres'].isna(),'genres']"
      ],
      "metadata": {
        "id": "kVNp7Sn5qYRs"
      },
      "execution_count": null,
      "outputs": []
    },
    {
      "cell_type": "code",
      "source": [
        "#apply the above function only on non null values in genres column\n",
        "imdb_df.loc[~imdb_df['genres'].isna(),'genres']= imdb_df.loc[~imdb_df['genres'].isna(),'genres'].apply(convert_to_list)"
      ],
      "metadata": {
        "id": "-5rA8_mdq77c"
      },
      "execution_count": null,
      "outputs": []
    },
    {
      "cell_type": "code",
      "source": [
        "#apply the above function only on non null values in cast column\n",
        "imdb_df.loc[~imdb_df['cast'].isna(),'cast']= imdb_df.loc[~imdb_df['cast'].isna(),'cast'].apply(convert_to_list)"
      ],
      "metadata": {
        "id": "Qi8fSD7rrEuN"
      },
      "execution_count": null,
      "outputs": []
    },
    {
      "cell_type": "code",
      "source": [
        "#apply the above function only on non null values in crew column\n",
        "imdb_df.loc[~imdb_df['crew'].isna(),'crew']= imdb_df.loc[~imdb_df['crew'].isna(),'crew'].apply(convert_to_list)"
      ],
      "metadata": {
        "id": "-kTofmjKrEcM"
      },
      "execution_count": null,
      "outputs": []
    },
    {
      "cell_type": "code",
      "source": [
        "#creating a df with the required columns\n",
        "df = imdb_df[columns_to_keep]"
      ],
      "metadata": {
        "id": "JTTB_5LbrIUz"
      },
      "execution_count": null,
      "outputs": []
    },
    {
      "cell_type": "code",
      "source": [
        "df.head(2)"
      ],
      "metadata": {
        "id": "9AT7laknrKw8"
      },
      "execution_count": null,
      "outputs": []
    },
    {
      "cell_type": "code",
      "source": [
        "df.info()"
      ],
      "metadata": {
        "id": "pYgymuimrNb1"
      },
      "execution_count": null,
      "outputs": []
    },
    {
      "cell_type": "markdown",
      "source": [
        "Drop the null values in the df"
      ],
      "metadata": {
        "id": "jpAKRUzosQqz"
      }
    },
    {
      "cell_type": "code",
      "source": [
        "df.dropna(inplace=True)"
      ],
      "metadata": {
        "id": "J9gDFz5ssQTM"
      },
      "execution_count": null,
      "outputs": []
    },
    {
      "cell_type": "code",
      "source": [
        "df.info()"
      ],
      "metadata": {
        "id": "CgMOwNlVseJs"
      },
      "execution_count": null,
      "outputs": []
    },
    {
      "cell_type": "code",
      "source": [
        "df.describe()"
      ],
      "metadata": {
        "id": "ZDjAwCGlswSN"
      },
      "execution_count": null,
      "outputs": []
    },
    {
      "cell_type": "markdown",
      "source": [
        "Minimum value of budget and revenue is very low ( 0 and 1) which is not possible so replace very low values(below 1000) with the median of the budget above 1000"
      ],
      "metadata": {
        "id": "yWplyp-Ns0Se"
      }
    },
    {
      "cell_type": "code",
      "source": [
        "df.loc[df['budget']<1000,'budget'] = df.loc[df['budget']>=1000,'budget'].median()"
      ],
      "metadata": {
        "id": "mhiac1oFtG_M"
      },
      "execution_count": null,
      "outputs": []
    },
    {
      "cell_type": "code",
      "source": [
        "df.loc[df['revenue']<1000,'revenue'] = df.loc[df['revenue']>=1000,'revenue'].median()"
      ],
      "metadata": {
        "id": "Rh2wlXYkuPWd"
      },
      "execution_count": null,
      "outputs": []
    },
    {
      "cell_type": "code",
      "source": [
        "df.describe()"
      ],
      "metadata": {
        "id": "PjYEnWBmucJ7"
      },
      "execution_count": null,
      "outputs": []
    },
    {
      "cell_type": "code",
      "source": [
        "#create profit and ROI column\n",
        "df['profit'] = df['revenue'] - df['budget']\n",
        "df['roi']= 100* (df['profit']/df['budget'])"
      ],
      "metadata": {
        "id": "IEJ9za4xugIM"
      },
      "execution_count": null,
      "outputs": []
    },
    {
      "cell_type": "code",
      "source": [
        "df.describe()"
      ],
      "metadata": {
        "id": "ELMEyeJeuyS0"
      },
      "execution_count": null,
      "outputs": []
    },
    {
      "cell_type": "markdown",
      "source": [
        "#Which movie made the highest profit? Who were its producer and director? Identify the actors in that film."
      ],
      "metadata": {
        "id": "JRE4hlNS4Mgv"
      }
    },
    {
      "cell_type": "code",
      "source": [
        "# max profit\n",
        "df['profit'].max()"
      ],
      "metadata": {
        "id": "P1Fc_ZRyvIIU"
      },
      "execution_count": null,
      "outputs": []
    },
    {
      "cell_type": "code",
      "source": [
        "#find index or row which have the max profit using .idxmax()\n",
        "#.idxmax()-->> returns the row number(index) for the max value of the column \n",
        "df['profit'].idxmax()"
      ],
      "metadata": {
        "id": "0uRc2g70vQOM"
      },
      "execution_count": null,
      "outputs": []
    },
    {
      "cell_type": "code",
      "source": [
        "# name of the movie for which the highest profit\n",
        "df.loc[df['profit'].idxmax(),'original_title']"
      ],
      "metadata": {
        "id": "m1fRG93ywQSm"
      },
      "execution_count": null,
      "outputs": []
    },
    {
      "cell_type": "code",
      "source": [
        "# create a max profit movie df\n",
        "max_profit_movie_df = df.loc[df['profit'].idxmax()]"
      ],
      "metadata": {
        "id": "9kUZi4PvwY8v"
      },
      "execution_count": null,
      "outputs": []
    },
    {
      "cell_type": "code",
      "source": [
        "max_profit_movie_df.head()"
      ],
      "metadata": {
        "id": "wn8hJJVjwjcX"
      },
      "execution_count": null,
      "outputs": []
    },
    {
      "cell_type": "code",
      "source": [
        "max_profit_movie_df.loc['cast'][0]['name']"
      ],
      "metadata": {
        "id": "CfO5EEn2wmyV"
      },
      "execution_count": null,
      "outputs": []
    },
    {
      "cell_type": "code",
      "source": [
        "# create a crew list for max profit movie\n",
        "crew_list= max_profit_movie_df.loc['crew']\n",
        "\n",
        "# view first 3 crew\n",
        "crew_list[0:3]"
      ],
      "metadata": {
        "id": "YUHf0e2VxUrX"
      },
      "execution_count": null,
      "outputs": []
    },
    {
      "cell_type": "markdown",
      "source": [
        "##Name of the director and producer of the max profit movie"
      ],
      "metadata": {
        "id": "B8f35UV5xjwH"
      }
    },
    {
      "cell_type": "code",
      "source": [
        "producer_list=[]\n",
        "director_list=[]\n",
        "for elem in crew_list:\n",
        "  if elem['job']=='Producer':\n",
        "    producer_list.append(elem['name'])\n",
        "  if elem['job']=='Director':\n",
        "    director_list.append(elem['name'])"
      ],
      "metadata": {
        "id": "k6H1cgKjxgt1"
      },
      "execution_count": null,
      "outputs": []
    },
    {
      "cell_type": "code",
      "source": [
        "print(f'PRODUCERS : {producer_list}')\n",
        "print(f'DIRECTORS : {director_list}')"
      ],
      "metadata": {
        "id": "Q7a3FXSjxoJ2"
      },
      "execution_count": null,
      "outputs": []
    },
    {
      "cell_type": "code",
      "source": [
        "# cast list\n",
        "\n",
        "cast_list =max_profit_movie_df['cast']\n",
        "# view first 3 cast\n",
        "cast_list[0:3]"
      ],
      "metadata": {
        "id": "PN5wAsGqyDsP"
      },
      "execution_count": null,
      "outputs": []
    },
    {
      "cell_type": "code",
      "source": [
        "# list of actors in highest profit movie\n",
        "actor_list=[]\n",
        "for elem in cast_list:\n",
        "  actor_list.append(elem['name'])"
      ],
      "metadata": {
        "id": "TvhYJOqCyP3O"
      },
      "execution_count": null,
      "outputs": []
    },
    {
      "cell_type": "code",
      "source": [
        "#actors\n",
        "print(f'Actors of the movie are :')\n",
        "actor_list"
      ],
      "metadata": {
        "id": "ZypGqOVSyXel"
      },
      "execution_count": null,
      "outputs": []
    },
    {
      "cell_type": "markdown",
      "source": [
        "#This data has information about movies made in different languages. Which language has the highest average ROI (return on investment)?"
      ],
      "metadata": {
        "id": "eCcCjAuT4iI4"
      }
    },
    {
      "cell_type": "code",
      "source": [
        "# find the roi mean for each language\n",
        "df.groupby('original_language')['roi'].mean().reset_index()"
      ],
      "metadata": {
        "id": "aEcNrS0GyZAo"
      },
      "execution_count": null,
      "outputs": []
    },
    {
      "cell_type": "code",
      "source": [
        "roi_languages_df = df.groupby('original_language')['roi'].mean().reset_index()"
      ],
      "metadata": {
        "id": "lVXSlVefzN7W"
      },
      "execution_count": null,
      "outputs": []
    },
    {
      "cell_type": "code",
      "source": [
        "print('Language with highest average roi is')\n",
        "df.groupby('original_language')['roi'].mean().reset_index().sort_values(by='roi',ascending=False).iloc[0,0]"
      ],
      "metadata": {
        "id": "46F_j6p9zZ2F"
      },
      "execution_count": null,
      "outputs": []
    },
    {
      "cell_type": "markdown",
      "source": [
        "#Find out the unique genres of movies in this dataset."
      ],
      "metadata": {
        "id": "L3lefb3Szxc9"
      }
    },
    {
      "cell_type": "code",
      "source": [
        "no_na_genres = df[~df['genres'].isna()]"
      ],
      "metadata": {
        "id": "_S0iIjv20m3m"
      },
      "execution_count": null,
      "outputs": []
    },
    {
      "cell_type": "code",
      "source": [
        "#create a list of genres and using .iterrow() method to iterate over genres column \n",
        "# .iterrow() --->> same as enumerate() its compulsory to use it in case of DataFrame\n",
        "gen_list=[]\n",
        "for index,row in no_na_genres.iterrows():    #tuple of index and row\n",
        "  genre = no_na_genres.loc[index,'genres']\n",
        "  for k in genre:\n",
        "    gen_list.append(k['name'])\n",
        "  \n",
        "#unique list of genres are:\n",
        "pd.DataFrame(set(gen_list),columns=['Unique Genres'])"
      ],
      "metadata": {
        "id": "wuSAUu4AztWl"
      },
      "execution_count": null,
      "outputs": []
    },
    {
      "cell_type": "markdown",
      "source": [
        "#Make a table of all the producers and directors of each movie. Find the top 3 producers who have produced movies with the highest average RoI?"
      ],
      "metadata": {
        "id": "fQNOrW0Q1fAN"
      }
    },
    {
      "cell_type": "code",
      "source": [
        "no_na_crew = df[~df['crew'].isna()]"
      ],
      "metadata": {
        "id": "usj5JqDZ04U9"
      },
      "execution_count": null,
      "outputs": []
    },
    {
      "cell_type": "code",
      "source": [
        "no_na_crew.shape"
      ],
      "metadata": {
        "id": "rwgjRuLB1p92"
      },
      "execution_count": null,
      "outputs": []
    },
    {
      "cell_type": "code",
      "source": [
        "#A simple function to extract list of all producers for a given movie_index\n",
        "def create_producer_list(index):\n",
        "  movie_index = no_na_crew.iloc[index]\n",
        "  crew_list= movie_index.loc['crew']\n",
        "  producer_list=[]\n",
        "  for elem in crew_list:\n",
        "     if elem['job']=='Producer':\n",
        "        producer_list.append(elem['name'])\n",
        "  return producer_list"
      ],
      "metadata": {
        "id": "gaslKbVh1rZm"
      },
      "execution_count": null,
      "outputs": []
    },
    {
      "cell_type": "code",
      "source": [
        "create_producer_list(10)"
      ],
      "metadata": {
        "id": "aUNQWh7I1uEI"
      },
      "execution_count": null,
      "outputs": []
    },
    {
      "cell_type": "code",
      "source": [
        "#A simple function to extract names of all directors for a given movie_index\n",
        "#each movie has only one director\n",
        "def create_director(index):\n",
        "  movie_index = no_na_crew.iloc[index]\n",
        "  crew_list= movie_index.loc['crew']\n",
        "\n",
        "  for elem in crew_list:\n",
        "     if elem['job']=='Director':\n",
        "        return elem['name']"
      ],
      "metadata": {
        "id": "GtDk2hj813V-"
      },
      "execution_count": null,
      "outputs": []
    },
    {
      "cell_type": "code",
      "source": [
        "create_director(10)"
      ],
      "metadata": {
        "id": "bO1SNnJV14Ml"
      },
      "execution_count": null,
      "outputs": []
    },
    {
      "cell_type": "code",
      "source": [
        "#create a empty DataFrame with required Column names in which we will append data later\n",
        "Table = pd.DataFrame(columns=['Movie Title','Producers','Directors','ROI'])"
      ],
      "metadata": {
        "id": "qH1YGx0o19gn"
      },
      "execution_count": null,
      "outputs": []
    },
    {
      "cell_type": "code",
      "source": [
        "for index,row in no_na_crew.iterrows():\n",
        "  \n",
        "  try:\n",
        "      Table = Table.append({'Movie Title':no_na_crew.loc[index,'original_title'],'Producers':create_producer_list(index),'Directors':create_director(index),'ROI':no_na_crew.loc[index,'roi']},ignore_index=True)\n",
        "  except:\n",
        "    continue\n",
        "    \n"
      ],
      "metadata": {
        "id": "AL8e6IXR2B1e"
      },
      "execution_count": null,
      "outputs": []
    },
    {
      "cell_type": "code",
      "source": [
        "# Table containing columns of Movie Title,its Producers,Directors and ROI\n",
        "\n",
        "Table.head(10)"
      ],
      "metadata": {
        "id": "SqcY0VSf2F32"
      },
      "execution_count": null,
      "outputs": []
    },
    {
      "cell_type": "markdown",
      "source": [
        "#Which actor has acted in the most number of movies? Deep dive into the movies, genres and profits corresponding to this actor."
      ],
      "metadata": {
        "id": "ZNkY9KFH2SI9"
      }
    },
    {
      "cell_type": "code",
      "source": [
        "no_na_cast = df[~df['cast'].isna()]"
      ],
      "metadata": {
        "id": "3vS-opnu2QFe"
      },
      "execution_count": null,
      "outputs": []
    },
    {
      "cell_type": "code",
      "source": [
        "no_na_cast.loc[0,'cast'][0]['name']"
      ],
      "metadata": {
        "id": "zx6799On2ZBX"
      },
      "execution_count": null,
      "outputs": []
    },
    {
      "cell_type": "code",
      "source": [
        "actor_list=[]\n",
        "for index,row in no_na_cast.iterrows():\n",
        "  for iter in no_na_cast.loc[index,'cast']:\n",
        "    if type(iter)== dict:\n",
        "      actor= iter['name']\n",
        "      actor_list.append(actor)"
      ],
      "metadata": {
        "id": "mySE_MGb2bMB"
      },
      "execution_count": null,
      "outputs": []
    },
    {
      "cell_type": "code",
      "source": [
        "#create a  DataFrame with actor list \n",
        "Actor_Table = pd.DataFrame(actor_list,columns=['Name of Actor'])"
      ],
      "metadata": {
        "id": "eZqSMcUg2dW2"
      },
      "execution_count": null,
      "outputs": []
    },
    {
      "cell_type": "code",
      "source": [
        "Actor_Table.shape"
      ],
      "metadata": {
        "id": "I2U11QVc2fWu"
      },
      "execution_count": null,
      "outputs": []
    },
    {
      "cell_type": "code",
      "source": [
        "Actor_Table.head()"
      ],
      "metadata": {
        "id": "tUqZVWav2hrN"
      },
      "execution_count": null,
      "outputs": []
    },
    {
      "cell_type": "code",
      "source": [
        "#sorting the actors using groupby function\n",
        "Actor_Table.value_counts().reset_index().head()"
      ],
      "metadata": {
        "id": "eUmT75ln2iop"
      },
      "execution_count": null,
      "outputs": []
    },
    {
      "cell_type": "code",
      "source": [
        "# Actors who have done maximum movies are(from the above groupby function):\n",
        "print('Samuel L. Jackson and Robert De Niro both have done 30 films')"
      ],
      "metadata": {
        "id": "UY0Ss5FE2kil"
      },
      "execution_count": null,
      "outputs": []
    },
    {
      "cell_type": "code",
      "source": [
        "\n",
        "profit1=[]\n",
        "profit2=[]\n",
        "movie1=[]\n",
        "movie2=[]\n",
        "for index,row in no_na_cast.iterrows():\n",
        "  for iter in no_na_cast.loc[index,'cast']:\n",
        "    if type(iter)== dict:\n",
        "      actor= iter['name']\n",
        "      if 'Robert De Niro' in actor:\n",
        "        profit1.append(no_na_cast.loc[index,'profit'])\n",
        "        movie1.append(no_na_cast.loc[index,'original_title'])\n",
        "      \n",
        "\n",
        "        \n",
        "\n",
        "      if 'Samuel L. Jackson' in actor:\n",
        "        profit2.append(no_na_cast.loc[index,'profit'])\n",
        "        movie2.append(no_na_cast.loc[index,'original_title'])\n",
        "        "
      ],
      "metadata": {
        "id": "5o632fwy26FY"
      },
      "execution_count": null,
      "outputs": []
    },
    {
      "cell_type": "code",
      "source": [
        "#creating a loop to get the genres for Robert and Samuel\n",
        "gener_r=[]\n",
        "a=[]\n",
        "for i in range(len(movie1)):\n",
        "  for g in no_na_cast.loc[i,'genres']:\n",
        "    a.append(g['name'])\n",
        "    \n",
        "  gener_r.append(a)\n",
        "  a=[]\n",
        "\n",
        "gener_s=[]\n",
        "b=[]\n",
        "for i in range(len(movie2)):\n",
        "  for g in no_na_cast.loc[i,'genres']:\n",
        "    b.append(g['name'])\n",
        "    \n",
        "  gener_s.append(b)\n",
        "  b=[]\n",
        "\n"
      ],
      "metadata": {
        "id": "ajB9H5SP3AvY"
      },
      "execution_count": null,
      "outputs": []
    },
    {
      "cell_type": "code",
      "source": [
        "genr = np.array(gener_r)\n",
        "gens = np.array(gener_s)"
      ],
      "metadata": {
        "id": "xh7ii_gu3C7I"
      },
      "execution_count": null,
      "outputs": []
    },
    {
      "cell_type": "code",
      "source": [
        "#creating sub dataframe for Robert\n",
        "mov1= pd.DataFrame(movie1,columns=['Movie Name'])\n",
        "prof1=pd.DataFrame(profit1,columns=['Movie Profit'])\n",
        "gen1= pd.DataFrame(genr.flatten(),columns=['Genres'])"
      ],
      "metadata": {
        "id": "ZP1uKtxW3FtC"
      },
      "execution_count": null,
      "outputs": []
    },
    {
      "cell_type": "code",
      "source": [
        "Movies_by_Robert=pd.concat([mov1,gen1,prof1],axis=1)"
      ],
      "metadata": {
        "id": "uiZklujr3Fqb"
      },
      "execution_count": null,
      "outputs": []
    },
    {
      "cell_type": "code",
      "source": [
        "# Movies by Robert De Niro\n",
        "Movies_by_Robert.sort_values(by='Movie Profit',ascending=False).head()"
      ],
      "metadata": {
        "id": "IZSxZJZC3Fnu"
      },
      "execution_count": null,
      "outputs": []
    },
    {
      "cell_type": "code",
      "source": [
        "#creating sub dataframe for Samuel\n",
        "mov2= pd.DataFrame(movie2,columns=['Movie Name'])\n",
        "prof2=pd.DataFrame(profit2,columns=['Movie Profit'])\n",
        "gen2= pd.DataFrame(gens.flatten(),columns=['Genres'])"
      ],
      "metadata": {
        "id": "W7tkf7Vg3FX1"
      },
      "execution_count": null,
      "outputs": []
    },
    {
      "cell_type": "code",
      "source": [
        "Movies_by_Samuel=pd.concat([mov1,gen1,prof1],axis=1)"
      ],
      "metadata": {
        "id": "GmInDW663RGA"
      },
      "execution_count": null,
      "outputs": []
    },
    {
      "cell_type": "code",
      "source": [
        "# Movies by Samuel L jackson\n",
        "Movies_by_Samuel.sort_values(by='Movie Profit',ascending=False).head()"
      ],
      "metadata": {
        "id": "FZTFFX2X3Scv"
      },
      "execution_count": null,
      "outputs": []
    },
    {
      "cell_type": "code",
      "source": [],
      "metadata": {
        "id": "Ln9sl4323XEo"
      },
      "execution_count": null,
      "outputs": []
    },
    {
      "cell_type": "markdown",
      "source": [
        "#Conclusion\n",
        "With the help of pandas library, the exploratory data analysis of the imdb_data.csv is done.\n",
        "The required data is imported from google drive to dataframe.\n",
        "The data is explored to evaluate the sanity and all only the required columns are used to create a working dataframe.\n",
        "\n",
        "All the columns that had string data type for the list of dictionary were converted to the list datatype with the help of custom function and eval function. All the rows with null values in the working dataframe were dropped.\n",
        "\n",
        "Solution to the questions are obtained by using various functions and methods."
      ],
      "metadata": {
        "id": "bKvfq9ML41LQ"
      }
    }
  ]
}